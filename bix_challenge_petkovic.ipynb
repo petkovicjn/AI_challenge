{
 "cells": [
  {
   "cell_type": "markdown",
   "metadata": {},
   "source": [
    "# BIX CHALLENGE"
   ]
  },
  {
   "cell_type": "markdown",
   "metadata": {},
   "source": [
    "Solved by Petkovic Nery."
   ]
  },
  {
   "cell_type": "markdown",
   "metadata": {},
   "source": [
    "#### PREPROCESSING DATA"
   ]
  },
  {
   "cell_type": "markdown",
   "metadata": {},
   "source": [
    "First, let's import the .csv files as DataFrames for preprocessing and future use in the model."
   ]
  },
  {
   "cell_type": "code",
   "execution_count": 1,
   "metadata": {},
   "outputs": [
    {
     "name": "stdout",
     "output_type": "stream",
     "text": [
      "  class  aa_000 ab_000 ac_000 ad_000 ae_000 af_000 ag_000 ag_001 ag_002  ...  \\\n",
      "0   neg      60      0     20     12      0      0      0      0      0  ...   \n",
      "1   neg      82      0     68     40      0      0      0      0      0  ...   \n",
      "2   neg   66002      2    212    112      0      0      0      0      0  ...   \n",
      "3   neg   59816     na   1010    936      0      0      0      0      0  ...   \n",
      "4   neg    1814     na    156    140      0      0      0      0      0  ...   \n",
      "\n",
      "   ee_002  ee_003  ee_004  ee_005   ee_006  ee_007  ee_008 ee_009 ef_000  \\\n",
      "0    1098     138     412     654       78      88       0      0      0   \n",
      "1    1068     276    1620     116       86     462       0      0      0   \n",
      "2  495076  380368  440134  269556  1315022  153680     516      0      0   \n",
      "3  540820  243270  483302  485332   431376  210074  281662   3232      0   \n",
      "4    7646    4144   18466   49782     3176     482      76      0      0   \n",
      "\n",
      "  eg_000  \n",
      "0      0  \n",
      "1      0  \n",
      "2      0  \n",
      "3      0  \n",
      "4      0  \n",
      "\n",
      "[5 rows x 171 columns]\n",
      "  class  aa_000 ab_000      ac_000 ad_000 ae_000 af_000 ag_000 ag_001 ag_002  \\\n",
      "0   neg   76698     na  2130706438    280      0      0      0      0      0   \n",
      "1   neg   33058     na           0     na      0      0      0      0      0   \n",
      "2   neg   41040     na         228    100      0      0      0      0      0   \n",
      "3   neg      12      0          70     66      0     10      0      0      0   \n",
      "4   neg   60874     na        1368    458      0      0      0      0      0   \n",
      "\n",
      "   ...   ee_002  ee_003  ee_004  ee_005  ee_006  ee_007  ee_008 ee_009 ef_000  \\\n",
      "0  ...  1240520  493384  721044  469792  339156  157956   73224      0      0   \n",
      "1  ...   421400  178064  293306  245416  133654   81140   97576   1500      0   \n",
      "2  ...   277378  159812  423992  409564  320746  158022   95128    514      0   \n",
      "3  ...      240      46      58      44      10       0       0      0      4   \n",
      "4  ...   622012  229790  405298  347188  286954  311560  433954   1218      0   \n",
      "\n",
      "  eg_000  \n",
      "0      0  \n",
      "1      0  \n",
      "2      0  \n",
      "3     32  \n",
      "4      0  \n",
      "\n",
      "[5 rows x 171 columns]\n"
     ]
    }
   ],
   "source": [
    "import pandas as pd\n",
    "\n",
    "as_present = pd.read_csv('air_system_present_year.csv')\n",
    "as_previous = pd.read_csv('air_system_previous_years.csv')\n",
    "\n",
    "print(as_present.head())\n",
    "print(as_previous.head())"
   ]
  },
  {
   "cell_type": "markdown",
   "metadata": {},
   "source": [
    "Oh, we've got a problem. We need to ensure all data is numeric in order to scikit-learn accept it. The first column clearly is a string. Let's check if the other ones need to be converted as well."
   ]
  },
  {
   "cell_type": "code",
   "execution_count": 2,
   "metadata": {},
   "outputs": [
    {
     "name": "stdout",
     "output_type": "stream",
     "text": [
      "object    170\n",
      "int64       1\n",
      "Name: count, dtype: int64\n",
      "object    170\n",
      "int64       1\n",
      "Name: count, dtype: int64\n"
     ]
    }
   ],
   "source": [
    "print(as_present.dtypes.value_counts())\n",
    "print(as_previous.dtypes.value_counts())"
   ]
  },
  {
   "cell_type": "markdown",
   "metadata": {},
   "source": [
    "Even though we see numbers from the second column on, just one of them is numeric. Also, 'na' values are strings as well. Let's convert all columns to numeric."
   ]
  },
  {
   "cell_type": "code",
   "execution_count": 3,
   "metadata": {},
   "outputs": [
    {
     "name": "stdout",
     "output_type": "stream",
     "text": [
      "float64    171\n",
      "Name: count, dtype: int64\n",
      "float64    171\n",
      "Name: count, dtype: int64\n"
     ]
    }
   ],
   "source": [
    "import numpy as np\n",
    "\n",
    "# Replace class names with 0 for neg and 1 for pos.\n",
    "as_present[\"class\"] = as_present[\"class\"].replace({\"neg\": \"0\", \"pos\": \"1\"}).astype(int)\n",
    "as_previous[\"class\"] = as_previous[\"class\"].replace({\"neg\": \"0\", \"pos\": \"1\"}).astype(int)\n",
    "\n",
    "# Convert 'na' strings to NumPy NaN values.\n",
    "as_present.replace('na', np.nan, inplace=True)\n",
    "as_previous.replace('na', np.nan, inplace=True)\n",
    "\n",
    "# Convert the whole dataframe to float.\n",
    "as_present = as_present.astype(float)\n",
    "as_previous = as_previous.astype(float)\n",
    "\n",
    "# Check the datatypes of all columns.\n",
    "print(as_present.dtypes.value_counts())\n",
    "print(as_previous.dtypes.value_counts())"
   ]
  },
  {
   "cell_type": "markdown",
   "metadata": {},
   "source": [
    "Time to check missing values in the dataframe. Let's first analyze the dataframe to be used for training our model."
   ]
  },
  {
   "cell_type": "code",
   "execution_count": 4,
   "metadata": {},
   "outputs": [
    {
     "data": {
      "image/png": "[encoded data removed]",
      "text/plain": [
       "<Figure size 1000x600 with 1 Axes>"
      ]
     },
     "metadata": {},
     "output_type": "display_data"
    }
   ],
   "source": [
    "import matplotlib.pyplot as plt\n",
    "\n",
    "as_previous_feat = as_previous.iloc[:, 1:]\n",
    "\n",
    "# Get the percentage of np.nan values and of both np.nan and 0 values (combined) for each column.\n",
    "percent_missing_nan = as_previous_feat.isnull().sum() * 100 / len(as_previous_feat)\n",
    "percent_missing_both = (as_previous_feat.isnull() | (as_previous_feat == 0)).sum() * 100 / len(as_previous_feat)\n",
    "\n",
    "# Creates a new dataframe with the column names and the percentages calculated above.\n",
    "missing_values = pd.DataFrame({'column_name': as_previous_feat.columns, 'percent_missing_nan': percent_missing_nan, 'percent_missing_both': percent_missing_both})\n",
    "missing_values.sort_values('percent_missing_both', ascending=False, inplace=True)\n",
    "\n",
    "# Create the figure.\n",
    "fig, ax = plt.subplots(figsize=(10, 6))\n",
    "\n",
    "# Plot the 0 values (foreground).\n",
    "ax.barh(range(len(missing_values)), missing_values['percent_missing_nan'], label='NaN', alpha=0.7)\n",
    "\n",
    "# Plot the NaN + 0 values (background, since they're greater than 0 values alone).\n",
    "ax.barh(range(len(missing_values)), missing_values['percent_missing_both'], label='0', alpha=0.5)\n",
    "\n",
    "# Customize the plot.\n",
    "plt.xlabel('Percentage Missing')\n",
    "plt.ylabel('Columns')\n",
    "plt.title('Distribution of Missing Values by Column')\n",
    "plt.gca().invert_yaxis()\n",
    "plt.xticks(range(0, 101, 10))\n",
    "plt.yticks(range(0, len(missing_values), 10)) \n",
    "\n",
    "# Add a dotted grid.\n",
    "plt.grid(axis='both', linestyle='--', alpha=0.5)\n",
    "plt.legend()\n",
    "\n",
    "plt.show()\n"
   ]
  },
  {
   "cell_type": "markdown",
   "metadata": {},
   "source": [
    "Since columns have been encoded, it is hard to tell what the huge amount of zeroes or null values in some columns truly mean. Dropping some features with lots of such values would make it faster to train the model and maybe improve its performance, but some of them might be useful for the task. For that reason, let's fill the null values with the column's mean value if they are normally distributed or with its median if they aren't."
   ]
  },
  {
   "cell_type": "code",
   "execution_count": 5,
   "metadata": {},
   "outputs": [],
   "source": [
    "from scipy.stats import kstest\n",
    "\n",
    "def null_treatment(df):\n",
    "    for col in df.columns:\n",
    "        _, p_value = kstest(df[col], 'norm')\n",
    "        \n",
    "        if p_value > 0.05:\n",
    "            # Column follows a normal distribution.\n",
    "            df[col] = df[col].fillna(df[col].mean())\n",
    "        else:\n",
    "            # Column does not follow a normal distribution.\n",
    "            df[col] = df[col].fillna(df[col].median())\n",
    "    \n",
    "    return df\n",
    "\n",
    "as_present_feat_n = null_treatment(as_present.iloc[:, 1:])\n",
    "as_previous_feat_n = null_treatment(as_previous_feat)"
   ]
  },
  {
   "cell_type": "markdown",
   "metadata": {},
   "source": [
    "170 features seems as a huge number for this model. Let's find the correlation between the columns and perform dimensionality reduction by eliminating the significant ones, thus avoiding bias introduction into linear models."
   ]
  },
  {
   "cell_type": "code",
   "execution_count": 6,
   "metadata": {},
   "outputs": [
    {
     "name": "stdout",
     "output_type": "stream",
     "text": [
      "[ True  True  True  True  True  True  True  True  True  True  True  True\n",
      "  True  True  True  True  True  True  True  True  True  True  True  True\n",
      "  True  True  True  True  True  True  True  True  True  True  True  True\n",
      "  True  True  True  True  True  True  True  True  True  True  True  True\n",
      "  True  True  True  True  True  True  True  True  True  True  True  True\n",
      "  True  True  True  True  True  True]\n",
      "             aa_000        ab_000        ac_000        ad_000        ae_000  \\\n",
      "count  6.000000e+04  60000.000000  6.000000e+04  6.000000e+04  60000.000000   \n",
      "mean   5.933650e+04      0.162500  3.362258e+08  1.434383e+05      6.535000   \n",
      "std    1.454301e+05      1.687318  7.767625e+08  3.504525e+07    158.147893   \n",
      "min    0.000000e+00      0.000000  0.000000e+00  0.000000e+00      0.000000   \n",
      "25%    8.340000e+02      0.000000  2.000000e+01  4.200000e+01      0.000000   \n",
      "50%    3.077600e+04      0.000000  1.520000e+02  1.260000e+02      0.000000   \n",
      "75%    4.866800e+04      0.000000  8.480000e+02  2.920000e+02      0.000000   \n",
      "max    2.746564e+06    204.000000  2.130707e+09  8.584298e+09  21050.000000   \n",
      "\n",
      "             ag_000        ag_001        ag_003        ag_007        ag_009  \\\n",
      "count  6.000000e+04  6.000000e+04  6.000000e+04  6.000000e+04  6.000000e+04   \n",
      "mean   2.191577e+02  9.648104e+02  8.760054e+04  4.950590e+05  5.057553e+03   \n",
      "std    2.036364e+04  3.400891e+04  7.575171e+05  1.415351e+06  1.687077e+05   \n",
      "min    0.000000e+00  0.000000e+00  0.000000e+00  0.000000e+00  0.000000e+00   \n",
      "25%    0.000000e+00  0.000000e+00  0.000000e+00  0.000000e+00  0.000000e+00   \n",
      "50%    0.000000e+00  0.000000e+00  0.000000e+00  1.192040e+05  0.000000e+00   \n",
      "75%    0.000000e+00  0.000000e+00  0.000000e+00  5.830555e+05  3.380000e+02   \n",
      "max    3.376892e+06  4.109372e+06  6.340207e+07  6.334675e+07  2.519851e+07   \n",
      "\n",
      "       ...        dk_000        dl_000        dq_000        du_000  \\\n",
      "count  ...  6.000000e+04  6.000000e+04  6.000000e+04  6.000000e+04   \n",
      "mean   ...  1.737008e+03  2.663518e+04  4.323590e+06  3.882734e+06   \n",
      "std    ...  6.433726e+04  1.058458e+06  9.524914e+07  1.133068e+07   \n",
      "min    ...  0.000000e+00  0.000000e+00  0.000000e+00  0.000000e+00   \n",
      "25%    ...  0.000000e+00  0.000000e+00  0.000000e+00  6.280000e+03   \n",
      "50%    ...  0.000000e+00  0.000000e+00  0.000000e+00  1.854000e+05   \n",
      "75%    ...  0.000000e+00  0.000000e+00  0.000000e+00  3.095990e+06   \n",
      "max    ...  5.483574e+06  1.038581e+08  6.351873e+09  4.602076e+08   \n",
      "\n",
      "             dy_000        dz_000        eb_000        ee_008        ef_000  \\\n",
      "count  6.000000e+04  60000.000000  6.000000e+04  6.000000e+04  60000.000000   \n",
      "mean   7.427122e+03      0.205967  9.109700e+06  1.372212e+05      0.086467   \n",
      "std    5.790666e+04     10.572728  4.135705e+07  4.472145e+05      4.268570   \n",
      "min    0.000000e+00      0.000000  0.000000e+00  0.000000e+00      0.000000   \n",
      "25%    0.000000e+00      0.000000  0.000000e+00  0.000000e+00      0.000000   \n",
      "50%    0.000000e+00      0.000000  6.221100e+05  3.812000e+03      0.000000   \n",
      "75%    2.800000e+01      0.000000  3.283810e+06  1.367255e+05      0.000000   \n",
      "max    3.793022e+06   1414.000000  1.322457e+09  1.926740e+07    482.000000   \n",
      "\n",
      "             eg_000  \n",
      "count  60000.000000  \n",
      "mean       0.203100  \n",
      "std        8.628043  \n",
      "min        0.000000  \n",
      "25%        0.000000  \n",
      "50%        0.000000  \n",
      "75%        0.000000  \n",
      "max     1146.000000  \n",
      "\n",
      "[8 rows x 66 columns]\n"
     ]
    }
   ],
   "source": [
    "as_present_dr = as_present_feat_n\n",
    "as_previous_dr = as_previous_feat_n\n",
    "\n",
    "correlation_matrix = as_previous_dr.corr()\n",
    "\n",
    "# Find pairs with correlation coefficient > 0.5.\n",
    "high_correlation_pairs = []\n",
    "for col1 in correlation_matrix.columns:\n",
    "    for col2 in correlation_matrix.columns:\n",
    "        if col1 != col2 and abs(correlation_matrix.loc[col1, col2]) > 0.5:\n",
    "            high_correlation_pairs.append((col1, col2))\n",
    "\n",
    "for col1, col2 in high_correlation_pairs:\n",
    "    if col1 in as_previous_dr.columns and col2 in as_previous_dr.columns:\n",
    "        # Drop one of the columns.\n",
    "        as_previous_dr.drop(col2, axis=1, inplace=True)\n",
    "\n",
    "columns_to_drop = [col for col in as_present_dr.columns if col not in as_previous_dr.columns]\n",
    "as_present_dr.drop(columns_to_drop, axis=1, inplace=True)\n",
    "\n",
    "# Check if they have the same columns.\n",
    "print(as_present_dr.columns == as_previous_dr.columns)\n",
    "print(as_previous_dr.describe())"
   ]
  },
  {
   "cell_type": "markdown",
   "metadata": {},
   "source": [
    "While ab_000 values vary from 0 to 204, ac_000 values reach billions! Scaling our data might improve the model's performance."
   ]
  },
  {
   "cell_type": "code",
   "execution_count": 7,
   "metadata": {},
   "outputs": [],
   "source": [
    "from sklearn.preprocessing import StandardScaler\n",
    "from sklearn.model_selection import cross_val_score, KFold\n",
    "\n",
    "scaler = StandardScaler()\n",
    "as_previous_scaled = scaler.fit_transform(as_previous_dr)\n",
    "as_present_scaled = scaler.transform(as_present_dr)"
   ]
  },
  {
   "cell_type": "markdown",
   "metadata": {},
   "source": [
    "Finally, it's time to create our final training and test sets."
   ]
  },
  {
   "cell_type": "code",
   "execution_count": 8,
   "metadata": {},
   "outputs": [
    {
     "name": "stdout",
     "output_type": "stream",
     "text": [
      "(60000, 66)\n",
      "(16000, 66)\n",
      "(60000,)\n",
      "(16000,)\n"
     ]
    }
   ],
   "source": [
    "X_train = as_previous_scaled\n",
    "X_test = as_present_scaled\n",
    "y_train = as_previous[\"class\"]\n",
    "y_test = as_present[\"class\"]\n",
    "\n",
    "print(X_train.shape)\n",
    "print(X_test.shape)\n",
    "print(y_train.shape)\n",
    "print(y_test.shape)"
   ]
  },
  {
   "cell_type": "markdown",
   "metadata": {},
   "source": [
    "#### EVALUATING MODELS"
   ]
  },
  {
   "cell_type": "markdown",
   "metadata": {},
   "source": [
    "We are going to evaluate the performance of three different models given our binary classification case:\n",
    "\n",
    "1. K-Nearest Neighbors\n",
    "2. Logistic Regression\n",
    "3. Decision Tree\n",
    "\n",
    "But before that, let's check for class imbalance."
   ]
  },
  {
   "cell_type": "code",
   "execution_count": 9,
   "metadata": {},
   "outputs": [
    {
     "name": "stdout",
     "output_type": "stream",
     "text": [
      "class\n",
      "0.0    59000\n",
      "1.0     1000\n",
      "Name: count, dtype: int64\n"
     ]
    }
   ],
   "source": [
    "print(y_train.value_counts())"
   ]
  },
  {
   "cell_type": "markdown",
   "metadata": {},
   "source": [
    "Notice that 'pos' values represent <2% from the total. Hence, class weights shall be calculated and used in the models that have an argument for it. Let's create a boxplot comparing their accuracy."
   ]
  },
  {
   "cell_type": "code",
   "execution_count": 10,
   "metadata": {},
   "outputs": [
    {
     "data": {
      "image/png": "[encoded data removed]",
      "text/plain": [
       "<Figure size 640x480 with 1 Axes>"
      ]
     },
     "metadata": {},
     "output_type": "display_data"
    }
   ],
   "source": [
    "from sklearn.utils.class_weight import compute_class_weight\n",
    "from sklearn.model_selection import cross_val_score, KFold\n",
    "from sklearn.neighbors import KNeighborsClassifier\n",
    "from sklearn.linear_model import LogisticRegression\n",
    "from sklearn.tree import DecisionTreeClassifier\n",
    "\n",
    "# Calcule class weights.\n",
    "cw = compute_class_weight(class_weight=\"balanced\", classes=np.unique(y_train), y=y_train)\n",
    "cw_dict = {0:cw[0], 1:cw[1]}\n",
    "\n",
    "# Instantiate models.\n",
    "models = {\"Logistic Regression\": LogisticRegression(class_weight=cw_dict, max_iter=500, random_state=111), \"KNN\": KNeighborsClassifier(), \"Decision Tree\": DecisionTreeClassifier(class_weight=cw_dict, random_state=111)}\n",
    "results = []\n",
    "\n",
    "# Loop through the models' values.\n",
    "for model in models.values():\n",
    "  \n",
    "  # Instantiate a KFold object.\n",
    "  kf = KFold(n_splits=6, random_state=111, shuffle=True)\n",
    "  \n",
    "  # Perform cross-validation.\n",
    "  cv_results = cross_val_score(model, X_train, y_train, cv=kf)\n",
    "  results.append(cv_results)\n",
    "plt.boxplot(results, tick_labels=models.keys())\n",
    "plt.show()"
   ]
  },
  {
   "cell_type": "markdown",
   "metadata": {},
   "source": [
    "Since the objective is to decrease the maintenance cost, avoiding corrective maintenance is paramount. Hence, *sensitivity* is the primary metric chosen to evaluate the model’s performance. That is because a single corrective maintenance service is more expensive than the inspection of 49 non-defective trucks or the preventive repair service of 19 defective ones. Therefore, getting most of true positive cases while reducing false negative ones is top priority given that sending a few non-defective trucks for maintenance is a lot cheaper than carrying out a single corrective maintenance."
   ]
  },
  {
   "cell_type": "code",
   "execution_count": 11,
   "metadata": {},
   "outputs": [
    {
     "name": "stdout",
     "output_type": "stream",
     "text": [
      "Logistic Regression\n",
      "Sensitivity: 0.9386666666666666\n",
      "Accuracy: 0.9703125\n",
      "Confusion Matrix\n",
      "[[15173   452]\n",
      " [   23   352]]\n",
      "KNN\n",
      "Sensitivity: 0.4746666666666667\n",
      "Accuracy: 0.985375\n",
      "Confusion Matrix\n",
      "[[15588    37]\n",
      " [  197   178]]\n",
      "Decision Tree\n",
      "Sensitivity: 0.5866666666666667\n",
      "Accuracy: 0.986125\n",
      "Confusion Matrix\n",
      "[[15558    67]\n",
      " [  155   220]]\n"
     ]
    }
   ],
   "source": [
    "from sklearn.metrics import recall_score, confusion_matrix\n",
    "\n",
    "for name, model1 in models.items():\n",
    "    model1.fit(X_train, y_train)\n",
    "    y_pred1 = model1.predict(X_test)\n",
    "    rec_score1 = recall_score(y_test, y_pred1)\n",
    "    acc_score1 = model1.score(X_test, y_test)\n",
    "    print(f\"{name}\\nSensitivity: {rec_score1}\\nAccuracy: {acc_score1}\\nConfusion Matrix\")\n",
    "    print(confusion_matrix(y_test, y_pred1))"
   ]
  },
  {
   "cell_type": "markdown",
   "metadata": {},
   "source": [
    "Lastly, let's check which features influence the model the most."
   ]
  },
  {
   "cell_type": "code",
   "execution_count": 12,
   "metadata": {},
   "outputs": [
    {
     "name": "stdout",
     "output_type": "stream",
     "text": [
      "model2's sensitivity: 0.9386666666666666\n",
      "Confusion Matrix\n",
      "[[15173   452]\n",
      " [   23   352]]\n",
      "\n",
      "\n",
      "aa_000: 0.28124444444444435\n",
      "ag_003: 0.011822222222222194\n",
      "bs_000: 0.011377777777777749\n",
      "bz_000: 0.007733333333333337\n",
      "dg_000: 0.007555555555555556\n",
      "bf_000: 0.007466666666666666\n",
      "de_000: 0.007377777777777761\n",
      "ag_001: 0.0072888888888888856\n",
      "ee_008: 0.007111111111111105\n",
      "bk_000: 0.005599999999999976\n",
      "ay_000: 0.005333333333333301\n",
      "ba_008: 0.005244444444444411\n",
      "cs_006: -0.004088888888888882\n",
      "db_000: 0.003999999999999963\n",
      "dh_000: -0.002666666666666706\n",
      "ay_001: 0.0025777777777777084\n",
      "ay_009: 0.0025777777777777084\n",
      "di_000: 0.0024888888888888222\n",
      "av_000: -0.0024000000000000354\n",
      "ce_000: 0.0023999999999999356\n",
      "cx_000: -0.0020444444444444746\n",
      "bc_000: 0.0019555555555554956\n",
      "cj_000: 0.0019555555555554956\n",
      "dy_000: -0.0017777777777778078\n",
      "ag_007: 0.0016888888888888435\n",
      "dl_000: 0.0009777777777777552\n",
      "az_006: 0.000888888888888865\n",
      "ac_000: 0.0007111111111110957\n",
      "ag_000: 0.0007111111111110957\n",
      "df_000: 0.0006222222222222056\n",
      "ab_000: -0.000444444444444451\n",
      "cl_000: -0.000444444444444451\n",
      "az_009: 0.0004444444444444325\n",
      "cs_007: 0.000355555555555546\n",
      "az_007: -0.0002666666666666706\n",
      "aj_000: 0.0002666666666666595\n",
      "ar_000: -0.00017777777777778042\n",
      "az_000: -0.00017777777777778042\n",
      "cp_000: 0.000177777777777773\n",
      "ai_000: -8.888888888889021e-05\n",
      "ay_002: -8.888888888889021e-05\n",
      "az_003: -8.888888888889021e-05\n",
      "cg_000: -8.888888888889021e-05\n",
      "ae_000: 8.88888888888865e-05\n",
      "az_002: 8.88888888888865e-05\n",
      "cn_009: 8.88888888888865e-05\n",
      "cr_000: 8.88888888888865e-05\n",
      "da_000: 8.88888888888865e-05\n",
      "dj_000: 8.88888888888865e-05\n",
      "ad_000: 0.0\n",
      "ag_009: 0.0\n",
      "as_000: 0.0\n",
      "at_000: 0.0\n",
      "ay_005: 0.0\n",
      "cd_000: 0.0\n",
      "ch_000: 0.0\n",
      "cs_009: 0.0\n",
      "cy_000: 0.0\n",
      "cz_000: 0.0\n",
      "dk_000: 0.0\n",
      "dq_000: 0.0\n",
      "du_000: 0.0\n",
      "dz_000: 0.0\n",
      "eb_000: 0.0\n",
      "ef_000: 0.0\n",
      "eg_000: 0.0\n"
     ]
    }
   ],
   "source": [
    "from sklearn.inspection import permutation_importance\n",
    "\n",
    "#Results are scored based on recall, or sensitivity, values.\n",
    "model2 = LogisticRegression(class_weight=cw_dict, max_iter=500, random_state=111).fit(X_train, y_train)\n",
    "y_pred2 = model2.predict(X_test)\n",
    "rec_score2 = recall_score(y_test, y_pred2)\n",
    "print(f\"model2's sensitivity: {rec_score2}\\nConfusion Matrix\")\n",
    "print(confusion_matrix(y_test, y_pred2))\n",
    "print('\\n')\n",
    "\n",
    "results = permutation_importance(model2, X_test, y_test, n_repeats=30, random_state=111, scoring='recall')\n",
    "\n",
    "importances = dict(zip(as_previous_dr.columns, results.importances_mean))\n",
    "importances = {k: v for k, v in sorted(importances.items(), key=lambda x: abs(x[1]), reverse=True)}\n",
    "\n",
    "for feature, importance in importances.items():\n",
    "    print(f'{feature}: {importance}')"
   ]
  },
  {
   "cell_type": "markdown",
   "metadata": {},
   "source": [
    "Just to reassure their influence, let's compare the top 10 features with the last 10."
   ]
  },
  {
   "cell_type": "code",
   "execution_count": 13,
   "metadata": {},
   "outputs": [
    {
     "name": "stdout",
     "output_type": "stream",
     "text": [
      "Top\n",
      "Sensitivity: 0.9226666666666666\n",
      "Accuracy: 0.96175\n",
      "Confusion Matrix\n",
      "[[15042   583]\n",
      " [   29   346]]\n",
      "Last\n",
      "Sensitivity: 0.37066666666666664\n",
      "Accuracy: 0.938375\n",
      "Confusion Matrix\n",
      "[[14875   750]\n",
      " [  236   139]]\n"
     ]
    }
   ],
   "source": [
    "top_10_feat = list(importances.keys())[:10]\n",
    "last_10_feat = list(importances.keys())[-10:]\n",
    "\n",
    "X_train_top = scaler.fit_transform(as_previous_dr[top_10_feat])\n",
    "X_test_top = scaler.transform(as_present_dr[top_10_feat])\n",
    "\n",
    "model3 = LogisticRegression(class_weight=cw_dict, max_iter=500, random_state=111).fit(X_train_top, y_train)\n",
    "model3.fit(X_train_top, y_train)\n",
    "y_pred3 = model3.predict(X_test_top)\n",
    "rec_score3 = recall_score(y_test, y_pred3)\n",
    "acc_score3 = model3.score(X_test_top, y_test)\n",
    "\n",
    "print(f\"Top\\nSensitivity: {rec_score3}\\nAccuracy: {acc_score3}\\nConfusion Matrix\")\n",
    "print(confusion_matrix(y_test, y_pred3))\n",
    "\n",
    "X_train_last = scaler.fit_transform(as_previous_dr[last_10_feat])\n",
    "X_test_last = scaler.transform(as_present_dr[last_10_feat])\n",
    "\n",
    "model4 = LogisticRegression(class_weight={0:1, 1:42}, max_iter=500, random_state=111).fit(X_train_last, y_train)\n",
    "model4.fit(X_train_last, y_train)\n",
    "y_pred4 = model4.predict(X_test_last)\n",
    "rec_score4 = recall_score(y_test, y_pred4)\n",
    "acc_score4 = model4.score(X_test_last, y_test)\n",
    "\n",
    "print(f\"Last\\nSensitivity: {rec_score4}\\nAccuracy: {acc_score4}\\nConfusion Matrix\")\n",
    "print(confusion_matrix(y_test, y_pred4))"
   ]
  },
  {
   "cell_type": "markdown",
   "metadata": {},
   "source": [
    "model2 is ready to use!"
   ]
  },
  {
   "cell_type": "markdown",
   "metadata": {},
   "source": []
  }
 ],
 "metadata": {
  "kernelspec": {
   "display_name": "Python 3",
   "language": "python",
   "name": "python3"
  },
  "language_info": {
   "codemirror_mode": {
    "name": "ipython",
    "version": 3
   },
   "file_extension": ".py",
   "mimetype": "text/x-python",
   "name": "python",
   "nbconvert_exporter": "python",
   "pygments_lexer": "ipython3",
   "version": "3.12.4"
  }
 },
 "nbformat": 4,
 "nbformat_minor": 2
}
